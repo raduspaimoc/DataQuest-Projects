{
 "cells": [
  {
   "cell_type": "markdown",
   "id": "67d69862",
   "metadata": {},
   "source": [
    "# Predicting Bike Rentals\n",
    "\n",
    "Many U.S. cities have communal bike sharing stations where you can rent bicycles by the hour or day. Washington, D.C. is one of these cities. The District collects detailed data on the number of bicycles people rent by the hour and day.\n",
    "\n",
    "Hadi Fanaee-T at the University of Porto compiled this data into a CSV file, which you'll work with in this project. The file contains 17380 rows, with each row representing the number of bike rentals for a single hour of a single day. You can download the data from the University of California, Irvine's website.\n",
    "\n",
    "Here are the descriptions for the relevant columns:\n",
    "\n",
    "- instant - A unique sequential ID number for each row\n",
    "- dteday - The date of the rentals\n",
    "- season - The season in which the rentals occurred\n",
    "- yr - The year the rentals occurred\n",
    "- mnth - The month the rentals occurred\n",
    "- hr - The hour the rentals occurred\n",
    "- holiday - Whether or not the day was a holiday\n",
    "- weekday - The day of the week (as a number, 0 to 7)\n",
    "- workingday - Whether or not the day was a working day\n",
    "- weathersit - The weather (as a categorical variable)\n",
    "- temp - The temperature, on a 0-1 scale\n",
    "- atemp - The adjusted temperature\n",
    "- hum - The humidity, on a 0-1 scale\n",
    "- windspeed - The wind speed, on a 0-1 scale\n",
    "- casual - The number of casual riders (people who hadn't previously signed up with the bike sharing program)\n",
    "- registered - The number of registered riders (people who had already signed up)\n",
    "- cnt - The total number of bike rentals (casual + registered)\n",
    "\n",
    "In this project, you'll try to predict the total number of bikes people rented in a given hour. You'll predict the cnt column using all of the other columns, except for casual and registered. To accomplish this, you'll create a few different machine learning models and evaluate their performance."
   ]
  },
  {
   "cell_type": "markdown",
   "id": "375a6209",
   "metadata": {},
   "source": [
    "# Imports"
   ]
  },
  {
   "cell_type": "code",
   "execution_count": 36,
   "id": "bb90b359",
   "metadata": {},
   "outputs": [],
   "source": [
    "import numpy as np\n",
    "import pandas as pd\n",
    "import seaborn as sns\n",
    "import matplotlib.pyplot as plt\n",
    "from sklearn.linear_model import LinearRegression\n",
    "from sklearn.tree import DecisionTreeRegressor\n",
    "from sklearn.ensemble import RandomForestRegressor\n",
    "plt.style.use('fivethirtyeight')"
   ]
  },
  {
   "cell_type": "markdown",
   "id": "4b632927",
   "metadata": {},
   "source": [
    "# Read data"
   ]
  },
  {
   "cell_type": "code",
   "execution_count": 2,
   "id": "ce92fb44",
   "metadata": {},
   "outputs": [],
   "source": [
    "bike_rentals = pd.read_csv(\"hour.csv\")"
   ]
  },
  {
   "cell_type": "markdown",
   "id": "79eb6f7b",
   "metadata": {},
   "source": [
    "# FUNCTIONS"
   ]
  },
  {
   "cell_type": "code",
   "execution_count": 47,
   "id": "a713d818",
   "metadata": {},
   "outputs": [],
   "source": [
    "def distribution_plot(df, column, title, with_mean=True):\n",
    "    \n",
    "    plt.figure(figsize=(20,10))\n",
    "    df[column].plot.hist()\n",
    "    if with_mean:\n",
    "        plt.axvline(df[column].mean(), color='black', label='mean')\n",
    "    plt.title(title)\n",
    "    plt.legend()\n",
    "    \n",
    "def corr_plot(df, column, title, rotation=90):\n",
    "    plt.figure(figsize=(20,10))\n",
    "    df.corr()[column].plot()\n",
    "    plt.xticks(rotation=rotation)\n",
    "    plt.title(title)\n",
    "    plt.legend()\n",
    "    \n",
    "def hours_transformation(hour):\n",
    "    \"\"\" 1 if the hour is from 6 to 12\n",
    "        2 if the hour is from 12 to 18\n",
    "        3 if the hour is from 18 to 24\n",
    "        4 if the hour is from 0 to 6 \"\"\"\n",
    "    if hour >=0 and hour < 6:\n",
    "        return 4\n",
    "    elif hour >=6 and hour < 12:\n",
    "        return 1\n",
    "    elif hour >= 12 and hour < 18:\n",
    "        return 2\n",
    "    elif hour >= 18 and hour <=24:\n",
    "        return 3\n",
    "    \n",
    "def value_counts_plot(df, column, title):\n",
    "    plt.figure(figsize=(20,10))\n",
    "    round(df[column].value_counts(dropna=False, normalize=True)*100, 2).plot(kind=\"bar\")\n",
    "    plt.title(title)\n",
    "    plt.xlabel('%')\n",
    "    plt.ylabel('Value')\n",
    "    plt.legend()        \n",
    "\n",
    "def predict_analysis(train_df, test_df, model_columns, column_to_predict, model=\"LR\"):\n",
    "    mse = []\n",
    "    if model == \"LR\":\n",
    "        reg = LinearRegression()\n",
    "        reg.fit(train_df[model_columns], train_df[column_to_predict])\n",
    "        predictions = reg.predict(test_df[model_columns])\n",
    "        mse = np.mean((predictions - test_df[column_to_predict]) **2)\n",
    "        print(\"MSE:\", mse)\n",
    "        \n",
    "    if model == \"RF\" or model == \"DT\":\n",
    "        models = []\n",
    "        for i in range(1, 10):\n",
    "            if model == \"DT\":\n",
    "                dt = DecisionTreeRegressor(min_samples_leaf=i)\n",
    "            else:\n",
    "                dt = RandomForestRegressor(min_samples_leaf=i)\n",
    "            dt.fit(train_df[model_columns], train_df[column_to_predict])\n",
    "            models.append(dt)\n",
    "        \n",
    "        for i in range(1, 10):\n",
    "            dt = models[i-1]\n",
    "            predictions = dt.predict(test_df[model_columns])\n",
    "            m = np.mean((predictions - test_df[column_to_predict]) ** 2)\n",
    "            print(\"DT WIHT \", i, \"SAMPLE LEAF ERROR\", m)\n",
    "            mse.append(m)        \n",
    "    return mse"
   ]
  },
  {
   "cell_type": "markdown",
   "id": "b826aa19",
   "metadata": {},
   "source": [
    "# EDA"
   ]
  },
  {
   "cell_type": "code",
   "execution_count": 4,
   "id": "29ecfe4d",
   "metadata": {},
   "outputs": [
    {
     "data": {
      "text/html": [
       "<div>\n",
       "<style scoped>\n",
       "    .dataframe tbody tr th:only-of-type {\n",
       "        vertical-align: middle;\n",
       "    }\n",
       "\n",
       "    .dataframe tbody tr th {\n",
       "        vertical-align: top;\n",
       "    }\n",
       "\n",
       "    .dataframe thead th {\n",
       "        text-align: right;\n",
       "    }\n",
       "</style>\n",
       "<table border=\"1\" class=\"dataframe\">\n",
       "  <thead>\n",
       "    <tr style=\"text-align: right;\">\n",
       "      <th></th>\n",
       "      <th>instant</th>\n",
       "      <th>dteday</th>\n",
       "      <th>season</th>\n",
       "      <th>yr</th>\n",
       "      <th>mnth</th>\n",
       "      <th>hr</th>\n",
       "      <th>holiday</th>\n",
       "      <th>weekday</th>\n",
       "      <th>workingday</th>\n",
       "      <th>weathersit</th>\n",
       "      <th>temp</th>\n",
       "      <th>atemp</th>\n",
       "      <th>hum</th>\n",
       "      <th>windspeed</th>\n",
       "      <th>casual</th>\n",
       "      <th>registered</th>\n",
       "      <th>cnt</th>\n",
       "    </tr>\n",
       "  </thead>\n",
       "  <tbody>\n",
       "    <tr>\n",
       "      <th>0</th>\n",
       "      <td>1</td>\n",
       "      <td>2011-01-01</td>\n",
       "      <td>1</td>\n",
       "      <td>0</td>\n",
       "      <td>1</td>\n",
       "      <td>0</td>\n",
       "      <td>0</td>\n",
       "      <td>6</td>\n",
       "      <td>0</td>\n",
       "      <td>1</td>\n",
       "      <td>0.24</td>\n",
       "      <td>0.2879</td>\n",
       "      <td>0.81</td>\n",
       "      <td>0.0000</td>\n",
       "      <td>3</td>\n",
       "      <td>13</td>\n",
       "      <td>16</td>\n",
       "    </tr>\n",
       "    <tr>\n",
       "      <th>1</th>\n",
       "      <td>2</td>\n",
       "      <td>2011-01-01</td>\n",
       "      <td>1</td>\n",
       "      <td>0</td>\n",
       "      <td>1</td>\n",
       "      <td>1</td>\n",
       "      <td>0</td>\n",
       "      <td>6</td>\n",
       "      <td>0</td>\n",
       "      <td>1</td>\n",
       "      <td>0.22</td>\n",
       "      <td>0.2727</td>\n",
       "      <td>0.80</td>\n",
       "      <td>0.0000</td>\n",
       "      <td>8</td>\n",
       "      <td>32</td>\n",
       "      <td>40</td>\n",
       "    </tr>\n",
       "    <tr>\n",
       "      <th>2</th>\n",
       "      <td>3</td>\n",
       "      <td>2011-01-01</td>\n",
       "      <td>1</td>\n",
       "      <td>0</td>\n",
       "      <td>1</td>\n",
       "      <td>2</td>\n",
       "      <td>0</td>\n",
       "      <td>6</td>\n",
       "      <td>0</td>\n",
       "      <td>1</td>\n",
       "      <td>0.22</td>\n",
       "      <td>0.2727</td>\n",
       "      <td>0.80</td>\n",
       "      <td>0.0000</td>\n",
       "      <td>5</td>\n",
       "      <td>27</td>\n",
       "      <td>32</td>\n",
       "    </tr>\n",
       "    <tr>\n",
       "      <th>3</th>\n",
       "      <td>4</td>\n",
       "      <td>2011-01-01</td>\n",
       "      <td>1</td>\n",
       "      <td>0</td>\n",
       "      <td>1</td>\n",
       "      <td>3</td>\n",
       "      <td>0</td>\n",
       "      <td>6</td>\n",
       "      <td>0</td>\n",
       "      <td>1</td>\n",
       "      <td>0.24</td>\n",
       "      <td>0.2879</td>\n",
       "      <td>0.75</td>\n",
       "      <td>0.0000</td>\n",
       "      <td>3</td>\n",
       "      <td>10</td>\n",
       "      <td>13</td>\n",
       "    </tr>\n",
       "    <tr>\n",
       "      <th>4</th>\n",
       "      <td>5</td>\n",
       "      <td>2011-01-01</td>\n",
       "      <td>1</td>\n",
       "      <td>0</td>\n",
       "      <td>1</td>\n",
       "      <td>4</td>\n",
       "      <td>0</td>\n",
       "      <td>6</td>\n",
       "      <td>0</td>\n",
       "      <td>1</td>\n",
       "      <td>0.24</td>\n",
       "      <td>0.2879</td>\n",
       "      <td>0.75</td>\n",
       "      <td>0.0000</td>\n",
       "      <td>0</td>\n",
       "      <td>1</td>\n",
       "      <td>1</td>\n",
       "    </tr>\n",
       "    <tr>\n",
       "      <th>...</th>\n",
       "      <td>...</td>\n",
       "      <td>...</td>\n",
       "      <td>...</td>\n",
       "      <td>...</td>\n",
       "      <td>...</td>\n",
       "      <td>...</td>\n",
       "      <td>...</td>\n",
       "      <td>...</td>\n",
       "      <td>...</td>\n",
       "      <td>...</td>\n",
       "      <td>...</td>\n",
       "      <td>...</td>\n",
       "      <td>...</td>\n",
       "      <td>...</td>\n",
       "      <td>...</td>\n",
       "      <td>...</td>\n",
       "      <td>...</td>\n",
       "    </tr>\n",
       "    <tr>\n",
       "      <th>17374</th>\n",
       "      <td>17375</td>\n",
       "      <td>2012-12-31</td>\n",
       "      <td>1</td>\n",
       "      <td>1</td>\n",
       "      <td>12</td>\n",
       "      <td>19</td>\n",
       "      <td>0</td>\n",
       "      <td>1</td>\n",
       "      <td>1</td>\n",
       "      <td>2</td>\n",
       "      <td>0.26</td>\n",
       "      <td>0.2576</td>\n",
       "      <td>0.60</td>\n",
       "      <td>0.1642</td>\n",
       "      <td>11</td>\n",
       "      <td>108</td>\n",
       "      <td>119</td>\n",
       "    </tr>\n",
       "    <tr>\n",
       "      <th>17375</th>\n",
       "      <td>17376</td>\n",
       "      <td>2012-12-31</td>\n",
       "      <td>1</td>\n",
       "      <td>1</td>\n",
       "      <td>12</td>\n",
       "      <td>20</td>\n",
       "      <td>0</td>\n",
       "      <td>1</td>\n",
       "      <td>1</td>\n",
       "      <td>2</td>\n",
       "      <td>0.26</td>\n",
       "      <td>0.2576</td>\n",
       "      <td>0.60</td>\n",
       "      <td>0.1642</td>\n",
       "      <td>8</td>\n",
       "      <td>81</td>\n",
       "      <td>89</td>\n",
       "    </tr>\n",
       "    <tr>\n",
       "      <th>17376</th>\n",
       "      <td>17377</td>\n",
       "      <td>2012-12-31</td>\n",
       "      <td>1</td>\n",
       "      <td>1</td>\n",
       "      <td>12</td>\n",
       "      <td>21</td>\n",
       "      <td>0</td>\n",
       "      <td>1</td>\n",
       "      <td>1</td>\n",
       "      <td>1</td>\n",
       "      <td>0.26</td>\n",
       "      <td>0.2576</td>\n",
       "      <td>0.60</td>\n",
       "      <td>0.1642</td>\n",
       "      <td>7</td>\n",
       "      <td>83</td>\n",
       "      <td>90</td>\n",
       "    </tr>\n",
       "    <tr>\n",
       "      <th>17377</th>\n",
       "      <td>17378</td>\n",
       "      <td>2012-12-31</td>\n",
       "      <td>1</td>\n",
       "      <td>1</td>\n",
       "      <td>12</td>\n",
       "      <td>22</td>\n",
       "      <td>0</td>\n",
       "      <td>1</td>\n",
       "      <td>1</td>\n",
       "      <td>1</td>\n",
       "      <td>0.26</td>\n",
       "      <td>0.2727</td>\n",
       "      <td>0.56</td>\n",
       "      <td>0.1343</td>\n",
       "      <td>13</td>\n",
       "      <td>48</td>\n",
       "      <td>61</td>\n",
       "    </tr>\n",
       "    <tr>\n",
       "      <th>17378</th>\n",
       "      <td>17379</td>\n",
       "      <td>2012-12-31</td>\n",
       "      <td>1</td>\n",
       "      <td>1</td>\n",
       "      <td>12</td>\n",
       "      <td>23</td>\n",
       "      <td>0</td>\n",
       "      <td>1</td>\n",
       "      <td>1</td>\n",
       "      <td>1</td>\n",
       "      <td>0.26</td>\n",
       "      <td>0.2727</td>\n",
       "      <td>0.65</td>\n",
       "      <td>0.1343</td>\n",
       "      <td>12</td>\n",
       "      <td>37</td>\n",
       "      <td>49</td>\n",
       "    </tr>\n",
       "  </tbody>\n",
       "</table>\n",
       "<p>17379 rows × 17 columns</p>\n",
       "</div>"
      ],
      "text/plain": [
       "       instant      dteday  season  yr  mnth  hr  holiday  weekday  \\\n",
       "0            1  2011-01-01       1   0     1   0        0        6   \n",
       "1            2  2011-01-01       1   0     1   1        0        6   \n",
       "2            3  2011-01-01       1   0     1   2        0        6   \n",
       "3            4  2011-01-01       1   0     1   3        0        6   \n",
       "4            5  2011-01-01       1   0     1   4        0        6   \n",
       "...        ...         ...     ...  ..   ...  ..      ...      ...   \n",
       "17374    17375  2012-12-31       1   1    12  19        0        1   \n",
       "17375    17376  2012-12-31       1   1    12  20        0        1   \n",
       "17376    17377  2012-12-31       1   1    12  21        0        1   \n",
       "17377    17378  2012-12-31       1   1    12  22        0        1   \n",
       "17378    17379  2012-12-31       1   1    12  23        0        1   \n",
       "\n",
       "       workingday  weathersit  temp   atemp   hum  windspeed  casual  \\\n",
       "0               0           1  0.24  0.2879  0.81     0.0000       3   \n",
       "1               0           1  0.22  0.2727  0.80     0.0000       8   \n",
       "2               0           1  0.22  0.2727  0.80     0.0000       5   \n",
       "3               0           1  0.24  0.2879  0.75     0.0000       3   \n",
       "4               0           1  0.24  0.2879  0.75     0.0000       0   \n",
       "...           ...         ...   ...     ...   ...        ...     ...   \n",
       "17374           1           2  0.26  0.2576  0.60     0.1642      11   \n",
       "17375           1           2  0.26  0.2576  0.60     0.1642       8   \n",
       "17376           1           1  0.26  0.2576  0.60     0.1642       7   \n",
       "17377           1           1  0.26  0.2727  0.56     0.1343      13   \n",
       "17378           1           1  0.26  0.2727  0.65     0.1343      12   \n",
       "\n",
       "       registered  cnt  \n",
       "0              13   16  \n",
       "1              32   40  \n",
       "2              27   32  \n",
       "3              10   13  \n",
       "4               1    1  \n",
       "...           ...  ...  \n",
       "17374         108  119  \n",
       "17375          81   89  \n",
       "17376          83   90  \n",
       "17377          48   61  \n",
       "17378          37   49  \n",
       "\n",
       "[17379 rows x 17 columns]"
      ]
     },
     "execution_count": 4,
     "metadata": {},
     "output_type": "execute_result"
    }
   ],
   "source": [
    "bike_rentals"
   ]
  },
  {
   "cell_type": "markdown",
   "id": "f21f6aaf",
   "metadata": {},
   "source": [
    "## TOTAL NUMBER OF BIKE RENTALS (CNT) DISTRIBUTION"
   ]
  },
  {
   "cell_type": "code",
   "execution_count": 5,
   "id": "cf8cd9e5",
   "metadata": {},
   "outputs": [
    {
     "data": {
      "image/png": "[encoded data removed]",
      "text/plain": [
       "<Figure size 2000x1000 with 1 Axes>"
      ]
     },
     "metadata": {},
     "output_type": "display_data"
    }
   ],
   "source": [
    "distribution_plot(bike_rentals, \"cnt\", \"TOTAL NUMBER OF BIKE RENTALS (CNT) DISTRIBUTION\", with_mean=True)"
   ]
  },
  {
   "cell_type": "markdown",
   "id": "9db63f23",
   "metadata": {},
   "source": [
    "From the previous chart we observe that the average bike rentals is nearby 200."
   ]
  },
  {
   "cell_type": "markdown",
   "id": "63cd922a",
   "metadata": {},
   "source": [
    "## CNT CORRELATION"
   ]
  },
  {
   "cell_type": "code",
   "execution_count": 6,
   "id": "1a05549d",
   "metadata": {},
   "outputs": [
    {
     "data": {
      "image/png": "[encoded data removed]",
      "text/plain": [
       "<Figure size 2000x1000 with 1 Axes>"
      ]
     },
     "metadata": {},
     "output_type": "display_data"
    }
   ],
   "source": [
    "corr_plot(bike_rentals, \"cnt\", \"CNT CORRELATION\", rotation=90)"
   ]
  },
  {
   "cell_type": "markdown",
   "id": "f7ffc45f",
   "metadata": {},
   "source": [
    "The most correlated columns to **CNT** are:\n",
    "- Registered\n",
    "- Windspeed\n",
    "- Atemp\n",
    "- Weathersit\n",
    "- Hr"
   ]
  },
  {
   "cell_type": "markdown",
   "id": "725e7079",
   "metadata": {},
   "source": [
    "## TOTAL NUMBER OF BIKE RENTALS PER HOUR"
   ]
  },
  {
   "cell_type": "code",
   "execution_count": 7,
   "id": "044763cb",
   "metadata": {},
   "outputs": [
    {
     "data": {
      "image/png": "[encoded data removed]",
      "text/plain": [
       "<Figure size 2000x1000 with 1 Axes>"
      ]
     },
     "metadata": {},
     "output_type": "display_data"
    }
   ],
   "source": [
    "distribution_plot(bike_rentals, \"hr\", \"TOTAL NUMBER OF BIKE RENTALS PER HOUR\", with_mean=True)"
   ]
  },
  {
   "cell_type": "markdown",
   "id": "845d9cd7",
   "metadata": {},
   "source": [
    "# FEATURE ENGINEERING"
   ]
  },
  {
   "cell_type": "markdown",
   "id": "3c2b6542",
   "metadata": {},
   "source": [
    "## Time Label"
   ]
  },
  {
   "cell_type": "markdown",
   "id": "dec4b483",
   "metadata": {},
   "source": [
    "The **hr** column in **bike_rentals** contains the hours during which bikes are rented, from **1** to **24**. A machine treats each hour differently, without understanding that certain hours are related. We can introduce some order into the process by creating a new column with labels for **morning, afternoon, evening, and night**. This bundles similar times together, enabling the model to make better decisions."
   ]
  },
  {
   "cell_type": "code",
   "execution_count": 8,
   "id": "8a8298ee",
   "metadata": {},
   "outputs": [],
   "source": [
    "bike_rentals[\"time_label\"] = bike_rentals[\"hr\"].apply(hours_transformation)"
   ]
  },
  {
   "cell_type": "code",
   "execution_count": 9,
   "id": "f83771e3",
   "metadata": {},
   "outputs": [
    {
     "data": {
      "text/plain": [
       "2    4375\n",
       "3    4368\n",
       "1    4360\n",
       "4    4276\n",
       "Name: time_label, dtype: int64"
      ]
     },
     "execution_count": 9,
     "metadata": {},
     "output_type": "execute_result"
    }
   ],
   "source": [
    "bike_rentals[\"time_label\"].value_counts(dropna=False)"
   ]
  },
  {
   "cell_type": "markdown",
   "id": "a07db815",
   "metadata": {},
   "source": [
    "### Time Label Value Counts"
   ]
  },
  {
   "cell_type": "code",
   "execution_count": 10,
   "id": "49e0c3cf",
   "metadata": {},
   "outputs": [
    {
     "data": {
      "image/png": "[encoded data removed]",
      "text/plain": [
       "<Figure size 2000x1000 with 1 Axes>"
      ]
     },
     "metadata": {},
     "output_type": "display_data"
    }
   ],
   "source": [
    "value_counts_plot(bike_rentals, \"time_label\", \"Time Label Value Counts\")"
   ]
  },
  {
   "cell_type": "markdown",
   "id": "c4c1227d",
   "metadata": {},
   "source": [
    "# Prediction Algorithms"
   ]
  },
  {
   "cell_type": "markdown",
   "id": "29253644",
   "metadata": {},
   "source": [
    "## Error Metric Definition"
   ]
  },
  {
   "cell_type": "markdown",
   "id": "e0effdc3",
   "metadata": {},
   "source": [
    "The **mean squared error** metric makes the most sense to evaluate our error. **MSE** works on continuous numeric data, which fits our data quite well."
   ]
  },
  {
   "cell_type": "markdown",
   "id": "180748e0",
   "metadata": {},
   "source": [
    "## Train Test Split"
   ]
  },
  {
   "cell_type": "code",
   "execution_count": 11,
   "id": "873df51a",
   "metadata": {},
   "outputs": [],
   "source": [
    "train = bike_rentals.sample(frac=.8)"
   ]
  },
  {
   "cell_type": "code",
   "execution_count": 13,
   "id": "18084152",
   "metadata": {},
   "outputs": [
    {
     "data": {
      "text/html": [
       "<div>\n",
       "<style scoped>\n",
       "    .dataframe tbody tr th:only-of-type {\n",
       "        vertical-align: middle;\n",
       "    }\n",
       "\n",
       "    .dataframe tbody tr th {\n",
       "        vertical-align: top;\n",
       "    }\n",
       "\n",
       "    .dataframe thead th {\n",
       "        text-align: right;\n",
       "    }\n",
       "</style>\n",
       "<table border=\"1\" class=\"dataframe\">\n",
       "  <thead>\n",
       "    <tr style=\"text-align: right;\">\n",
       "      <th></th>\n",
       "      <th>instant</th>\n",
       "      <th>dteday</th>\n",
       "      <th>season</th>\n",
       "      <th>yr</th>\n",
       "      <th>mnth</th>\n",
       "      <th>hr</th>\n",
       "      <th>holiday</th>\n",
       "      <th>weekday</th>\n",
       "      <th>workingday</th>\n",
       "      <th>weathersit</th>\n",
       "      <th>temp</th>\n",
       "      <th>atemp</th>\n",
       "      <th>hum</th>\n",
       "      <th>windspeed</th>\n",
       "      <th>casual</th>\n",
       "      <th>registered</th>\n",
       "      <th>cnt</th>\n",
       "      <th>time_label</th>\n",
       "    </tr>\n",
       "  </thead>\n",
       "  <tbody>\n",
       "    <tr>\n",
       "      <th>2480</th>\n",
       "      <td>2481</td>\n",
       "      <td>2011-04-18</td>\n",
       "      <td>2</td>\n",
       "      <td>0</td>\n",
       "      <td>4</td>\n",
       "      <td>6</td>\n",
       "      <td>0</td>\n",
       "      <td>1</td>\n",
       "      <td>1</td>\n",
       "      <td>1</td>\n",
       "      <td>0.40</td>\n",
       "      <td>0.4091</td>\n",
       "      <td>0.82</td>\n",
       "      <td>0.0000</td>\n",
       "      <td>3</td>\n",
       "      <td>51</td>\n",
       "      <td>54</td>\n",
       "      <td>1</td>\n",
       "    </tr>\n",
       "    <tr>\n",
       "      <th>13570</th>\n",
       "      <td>13571</td>\n",
       "      <td>2012-07-24</td>\n",
       "      <td>3</td>\n",
       "      <td>1</td>\n",
       "      <td>7</td>\n",
       "      <td>15</td>\n",
       "      <td>0</td>\n",
       "      <td>2</td>\n",
       "      <td>1</td>\n",
       "      <td>1</td>\n",
       "      <td>0.82</td>\n",
       "      <td>0.7727</td>\n",
       "      <td>0.49</td>\n",
       "      <td>0.2985</td>\n",
       "      <td>73</td>\n",
       "      <td>212</td>\n",
       "      <td>285</td>\n",
       "      <td>2</td>\n",
       "    </tr>\n",
       "    <tr>\n",
       "      <th>3447</th>\n",
       "      <td>3448</td>\n",
       "      <td>2011-05-28</td>\n",
       "      <td>2</td>\n",
       "      <td>0</td>\n",
       "      <td>5</td>\n",
       "      <td>13</td>\n",
       "      <td>0</td>\n",
       "      <td>6</td>\n",
       "      <td>0</td>\n",
       "      <td>1</td>\n",
       "      <td>0.72</td>\n",
       "      <td>0.6818</td>\n",
       "      <td>0.62</td>\n",
       "      <td>0.2239</td>\n",
       "      <td>168</td>\n",
       "      <td>217</td>\n",
       "      <td>385</td>\n",
       "      <td>2</td>\n",
       "    </tr>\n",
       "    <tr>\n",
       "      <th>5387</th>\n",
       "      <td>5388</td>\n",
       "      <td>2011-08-17</td>\n",
       "      <td>3</td>\n",
       "      <td>0</td>\n",
       "      <td>8</td>\n",
       "      <td>9</td>\n",
       "      <td>0</td>\n",
       "      <td>3</td>\n",
       "      <td>1</td>\n",
       "      <td>1</td>\n",
       "      <td>0.74</td>\n",
       "      <td>0.6667</td>\n",
       "      <td>0.48</td>\n",
       "      <td>0.0896</td>\n",
       "      <td>31</td>\n",
       "      <td>178</td>\n",
       "      <td>209</td>\n",
       "      <td>1</td>\n",
       "    </tr>\n",
       "    <tr>\n",
       "      <th>12957</th>\n",
       "      <td>12958</td>\n",
       "      <td>2012-06-29</td>\n",
       "      <td>3</td>\n",
       "      <td>1</td>\n",
       "      <td>6</td>\n",
       "      <td>2</td>\n",
       "      <td>0</td>\n",
       "      <td>5</td>\n",
       "      <td>1</td>\n",
       "      <td>1</td>\n",
       "      <td>0.72</td>\n",
       "      <td>0.6667</td>\n",
       "      <td>0.58</td>\n",
       "      <td>0.1940</td>\n",
       "      <td>3</td>\n",
       "      <td>15</td>\n",
       "      <td>18</td>\n",
       "      <td>4</td>\n",
       "    </tr>\n",
       "    <tr>\n",
       "      <th>...</th>\n",
       "      <td>...</td>\n",
       "      <td>...</td>\n",
       "      <td>...</td>\n",
       "      <td>...</td>\n",
       "      <td>...</td>\n",
       "      <td>...</td>\n",
       "      <td>...</td>\n",
       "      <td>...</td>\n",
       "      <td>...</td>\n",
       "      <td>...</td>\n",
       "      <td>...</td>\n",
       "      <td>...</td>\n",
       "      <td>...</td>\n",
       "      <td>...</td>\n",
       "      <td>...</td>\n",
       "      <td>...</td>\n",
       "      <td>...</td>\n",
       "      <td>...</td>\n",
       "    </tr>\n",
       "    <tr>\n",
       "      <th>2588</th>\n",
       "      <td>2589</td>\n",
       "      <td>2011-04-22</td>\n",
       "      <td>2</td>\n",
       "      <td>0</td>\n",
       "      <td>4</td>\n",
       "      <td>18</td>\n",
       "      <td>0</td>\n",
       "      <td>5</td>\n",
       "      <td>1</td>\n",
       "      <td>3</td>\n",
       "      <td>0.32</td>\n",
       "      <td>0.3030</td>\n",
       "      <td>0.93</td>\n",
       "      <td>0.2239</td>\n",
       "      <td>4</td>\n",
       "      <td>47</td>\n",
       "      <td>51</td>\n",
       "      <td>3</td>\n",
       "    </tr>\n",
       "    <tr>\n",
       "      <th>11571</th>\n",
       "      <td>11572</td>\n",
       "      <td>2012-05-02</td>\n",
       "      <td>2</td>\n",
       "      <td>1</td>\n",
       "      <td>5</td>\n",
       "      <td>8</td>\n",
       "      <td>0</td>\n",
       "      <td>3</td>\n",
       "      <td>1</td>\n",
       "      <td>2</td>\n",
       "      <td>0.56</td>\n",
       "      <td>0.5303</td>\n",
       "      <td>0.88</td>\n",
       "      <td>0.0000</td>\n",
       "      <td>26</td>\n",
       "      <td>640</td>\n",
       "      <td>666</td>\n",
       "      <td>1</td>\n",
       "    </tr>\n",
       "    <tr>\n",
       "      <th>5268</th>\n",
       "      <td>5269</td>\n",
       "      <td>2011-08-12</td>\n",
       "      <td>3</td>\n",
       "      <td>0</td>\n",
       "      <td>8</td>\n",
       "      <td>10</td>\n",
       "      <td>0</td>\n",
       "      <td>5</td>\n",
       "      <td>1</td>\n",
       "      <td>1</td>\n",
       "      <td>0.74</td>\n",
       "      <td>0.6515</td>\n",
       "      <td>0.33</td>\n",
       "      <td>0.1045</td>\n",
       "      <td>44</td>\n",
       "      <td>86</td>\n",
       "      <td>130</td>\n",
       "      <td>1</td>\n",
       "    </tr>\n",
       "    <tr>\n",
       "      <th>1573</th>\n",
       "      <td>1574</td>\n",
       "      <td>2011-03-11</td>\n",
       "      <td>1</td>\n",
       "      <td>0</td>\n",
       "      <td>3</td>\n",
       "      <td>0</td>\n",
       "      <td>0</td>\n",
       "      <td>5</td>\n",
       "      <td>1</td>\n",
       "      <td>2</td>\n",
       "      <td>0.34</td>\n",
       "      <td>0.3485</td>\n",
       "      <td>1.00</td>\n",
       "      <td>0.0896</td>\n",
       "      <td>0</td>\n",
       "      <td>6</td>\n",
       "      <td>6</td>\n",
       "      <td>4</td>\n",
       "    </tr>\n",
       "    <tr>\n",
       "      <th>13976</th>\n",
       "      <td>13977</td>\n",
       "      <td>2012-08-10</td>\n",
       "      <td>3</td>\n",
       "      <td>1</td>\n",
       "      <td>8</td>\n",
       "      <td>13</td>\n",
       "      <td>0</td>\n",
       "      <td>5</td>\n",
       "      <td>1</td>\n",
       "      <td>2</td>\n",
       "      <td>0.76</td>\n",
       "      <td>0.7121</td>\n",
       "      <td>0.58</td>\n",
       "      <td>0.3582</td>\n",
       "      <td>66</td>\n",
       "      <td>224</td>\n",
       "      <td>290</td>\n",
       "      <td>2</td>\n",
       "    </tr>\n",
       "  </tbody>\n",
       "</table>\n",
       "<p>13903 rows × 18 columns</p>\n",
       "</div>"
      ],
      "text/plain": [
       "       instant      dteday  season  yr  mnth  hr  holiday  weekday  \\\n",
       "2480      2481  2011-04-18       2   0     4   6        0        1   \n",
       "13570    13571  2012-07-24       3   1     7  15        0        2   \n",
       "3447      3448  2011-05-28       2   0     5  13        0        6   \n",
       "5387      5388  2011-08-17       3   0     8   9        0        3   \n",
       "12957    12958  2012-06-29       3   1     6   2        0        5   \n",
       "...        ...         ...     ...  ..   ...  ..      ...      ...   \n",
       "2588      2589  2011-04-22       2   0     4  18        0        5   \n",
       "11571    11572  2012-05-02       2   1     5   8        0        3   \n",
       "5268      5269  2011-08-12       3   0     8  10        0        5   \n",
       "1573      1574  2011-03-11       1   0     3   0        0        5   \n",
       "13976    13977  2012-08-10       3   1     8  13        0        5   \n",
       "\n",
       "       workingday  weathersit  temp   atemp   hum  windspeed  casual  \\\n",
       "2480            1           1  0.40  0.4091  0.82     0.0000       3   \n",
       "13570           1           1  0.82  0.7727  0.49     0.2985      73   \n",
       "3447            0           1  0.72  0.6818  0.62     0.2239     168   \n",
       "5387            1           1  0.74  0.6667  0.48     0.0896      31   \n",
       "12957           1           1  0.72  0.6667  0.58     0.1940       3   \n",
       "...           ...         ...   ...     ...   ...        ...     ...   \n",
       "2588            1           3  0.32  0.3030  0.93     0.2239       4   \n",
       "11571           1           2  0.56  0.5303  0.88     0.0000      26   \n",
       "5268            1           1  0.74  0.6515  0.33     0.1045      44   \n",
       "1573            1           2  0.34  0.3485  1.00     0.0896       0   \n",
       "13976           1           2  0.76  0.7121  0.58     0.3582      66   \n",
       "\n",
       "       registered  cnt  time_label  \n",
       "2480           51   54           1  \n",
       "13570         212  285           2  \n",
       "3447          217  385           2  \n",
       "5387          178  209           1  \n",
       "12957          15   18           4  \n",
       "...           ...  ...         ...  \n",
       "2588           47   51           3  \n",
       "11571         640  666           1  \n",
       "5268           86  130           1  \n",
       "1573            6    6           4  \n",
       "13976         224  290           2  \n",
       "\n",
       "[13903 rows x 18 columns]"
      ]
     },
     "execution_count": 13,
     "metadata": {},
     "output_type": "execute_result"
    }
   ],
   "source": [
    "train"
   ]
  },
  {
   "cell_type": "code",
   "execution_count": 12,
   "id": "29f08bdf",
   "metadata": {},
   "outputs": [],
   "source": [
    "test = bike_rentals.loc[~bike_rentals.index.isin(train.index)]"
   ]
  },
  {
   "cell_type": "code",
   "execution_count": 14,
   "id": "4c6cbebe",
   "metadata": {},
   "outputs": [
    {
     "data": {
      "text/html": [
       "<div>\n",
       "<style scoped>\n",
       "    .dataframe tbody tr th:only-of-type {\n",
       "        vertical-align: middle;\n",
       "    }\n",
       "\n",
       "    .dataframe tbody tr th {\n",
       "        vertical-align: top;\n",
       "    }\n",
       "\n",
       "    .dataframe thead th {\n",
       "        text-align: right;\n",
       "    }\n",
       "</style>\n",
       "<table border=\"1\" class=\"dataframe\">\n",
       "  <thead>\n",
       "    <tr style=\"text-align: right;\">\n",
       "      <th></th>\n",
       "      <th>instant</th>\n",
       "      <th>dteday</th>\n",
       "      <th>season</th>\n",
       "      <th>yr</th>\n",
       "      <th>mnth</th>\n",
       "      <th>hr</th>\n",
       "      <th>holiday</th>\n",
       "      <th>weekday</th>\n",
       "      <th>workingday</th>\n",
       "      <th>weathersit</th>\n",
       "      <th>temp</th>\n",
       "      <th>atemp</th>\n",
       "      <th>hum</th>\n",
       "      <th>windspeed</th>\n",
       "      <th>casual</th>\n",
       "      <th>registered</th>\n",
       "      <th>cnt</th>\n",
       "      <th>time_label</th>\n",
       "    </tr>\n",
       "  </thead>\n",
       "  <tbody>\n",
       "    <tr>\n",
       "      <th>11</th>\n",
       "      <td>12</td>\n",
       "      <td>2011-01-01</td>\n",
       "      <td>1</td>\n",
       "      <td>0</td>\n",
       "      <td>1</td>\n",
       "      <td>11</td>\n",
       "      <td>0</td>\n",
       "      <td>6</td>\n",
       "      <td>0</td>\n",
       "      <td>1</td>\n",
       "      <td>0.36</td>\n",
       "      <td>0.3333</td>\n",
       "      <td>0.81</td>\n",
       "      <td>0.2836</td>\n",
       "      <td>26</td>\n",
       "      <td>30</td>\n",
       "      <td>56</td>\n",
       "      <td>1</td>\n",
       "    </tr>\n",
       "    <tr>\n",
       "      <th>15</th>\n",
       "      <td>16</td>\n",
       "      <td>2011-01-01</td>\n",
       "      <td>1</td>\n",
       "      <td>0</td>\n",
       "      <td>1</td>\n",
       "      <td>15</td>\n",
       "      <td>0</td>\n",
       "      <td>6</td>\n",
       "      <td>0</td>\n",
       "      <td>2</td>\n",
       "      <td>0.44</td>\n",
       "      <td>0.4394</td>\n",
       "      <td>0.77</td>\n",
       "      <td>0.2985</td>\n",
       "      <td>40</td>\n",
       "      <td>70</td>\n",
       "      <td>110</td>\n",
       "      <td>2</td>\n",
       "    </tr>\n",
       "    <tr>\n",
       "      <th>16</th>\n",
       "      <td>17</td>\n",
       "      <td>2011-01-01</td>\n",
       "      <td>1</td>\n",
       "      <td>0</td>\n",
       "      <td>1</td>\n",
       "      <td>16</td>\n",
       "      <td>0</td>\n",
       "      <td>6</td>\n",
       "      <td>0</td>\n",
       "      <td>2</td>\n",
       "      <td>0.42</td>\n",
       "      <td>0.4242</td>\n",
       "      <td>0.82</td>\n",
       "      <td>0.2985</td>\n",
       "      <td>41</td>\n",
       "      <td>52</td>\n",
       "      <td>93</td>\n",
       "      <td>2</td>\n",
       "    </tr>\n",
       "    <tr>\n",
       "      <th>19</th>\n",
       "      <td>20</td>\n",
       "      <td>2011-01-01</td>\n",
       "      <td>1</td>\n",
       "      <td>0</td>\n",
       "      <td>1</td>\n",
       "      <td>19</td>\n",
       "      <td>0</td>\n",
       "      <td>6</td>\n",
       "      <td>0</td>\n",
       "      <td>3</td>\n",
       "      <td>0.42</td>\n",
       "      <td>0.4242</td>\n",
       "      <td>0.88</td>\n",
       "      <td>0.2537</td>\n",
       "      <td>6</td>\n",
       "      <td>31</td>\n",
       "      <td>37</td>\n",
       "      <td>3</td>\n",
       "    </tr>\n",
       "    <tr>\n",
       "      <th>29</th>\n",
       "      <td>30</td>\n",
       "      <td>2011-01-02</td>\n",
       "      <td>1</td>\n",
       "      <td>0</td>\n",
       "      <td>1</td>\n",
       "      <td>6</td>\n",
       "      <td>0</td>\n",
       "      <td>0</td>\n",
       "      <td>0</td>\n",
       "      <td>3</td>\n",
       "      <td>0.42</td>\n",
       "      <td>0.4242</td>\n",
       "      <td>0.77</td>\n",
       "      <td>0.2985</td>\n",
       "      <td>0</td>\n",
       "      <td>2</td>\n",
       "      <td>2</td>\n",
       "      <td>1</td>\n",
       "    </tr>\n",
       "    <tr>\n",
       "      <th>...</th>\n",
       "      <td>...</td>\n",
       "      <td>...</td>\n",
       "      <td>...</td>\n",
       "      <td>...</td>\n",
       "      <td>...</td>\n",
       "      <td>...</td>\n",
       "      <td>...</td>\n",
       "      <td>...</td>\n",
       "      <td>...</td>\n",
       "      <td>...</td>\n",
       "      <td>...</td>\n",
       "      <td>...</td>\n",
       "      <td>...</td>\n",
       "      <td>...</td>\n",
       "      <td>...</td>\n",
       "      <td>...</td>\n",
       "      <td>...</td>\n",
       "      <td>...</td>\n",
       "    </tr>\n",
       "    <tr>\n",
       "      <th>17357</th>\n",
       "      <td>17358</td>\n",
       "      <td>2012-12-31</td>\n",
       "      <td>1</td>\n",
       "      <td>1</td>\n",
       "      <td>12</td>\n",
       "      <td>2</td>\n",
       "      <td>0</td>\n",
       "      <td>1</td>\n",
       "      <td>1</td>\n",
       "      <td>1</td>\n",
       "      <td>0.16</td>\n",
       "      <td>0.1667</td>\n",
       "      <td>0.59</td>\n",
       "      <td>0.1642</td>\n",
       "      <td>3</td>\n",
       "      <td>8</td>\n",
       "      <td>11</td>\n",
       "      <td>4</td>\n",
       "    </tr>\n",
       "    <tr>\n",
       "      <th>17361</th>\n",
       "      <td>17362</td>\n",
       "      <td>2012-12-31</td>\n",
       "      <td>1</td>\n",
       "      <td>1</td>\n",
       "      <td>12</td>\n",
       "      <td>6</td>\n",
       "      <td>0</td>\n",
       "      <td>1</td>\n",
       "      <td>1</td>\n",
       "      <td>1</td>\n",
       "      <td>0.16</td>\n",
       "      <td>0.1667</td>\n",
       "      <td>0.64</td>\n",
       "      <td>0.1642</td>\n",
       "      <td>0</td>\n",
       "      <td>40</td>\n",
       "      <td>40</td>\n",
       "      <td>1</td>\n",
       "    </tr>\n",
       "    <tr>\n",
       "      <th>17363</th>\n",
       "      <td>17364</td>\n",
       "      <td>2012-12-31</td>\n",
       "      <td>1</td>\n",
       "      <td>1</td>\n",
       "      <td>12</td>\n",
       "      <td>8</td>\n",
       "      <td>0</td>\n",
       "      <td>1</td>\n",
       "      <td>1</td>\n",
       "      <td>1</td>\n",
       "      <td>0.14</td>\n",
       "      <td>0.1515</td>\n",
       "      <td>0.69</td>\n",
       "      <td>0.1343</td>\n",
       "      <td>9</td>\n",
       "      <td>187</td>\n",
       "      <td>196</td>\n",
       "      <td>1</td>\n",
       "    </tr>\n",
       "    <tr>\n",
       "      <th>17369</th>\n",
       "      <td>17370</td>\n",
       "      <td>2012-12-31</td>\n",
       "      <td>1</td>\n",
       "      <td>1</td>\n",
       "      <td>12</td>\n",
       "      <td>14</td>\n",
       "      <td>0</td>\n",
       "      <td>1</td>\n",
       "      <td>1</td>\n",
       "      <td>2</td>\n",
       "      <td>0.28</td>\n",
       "      <td>0.2727</td>\n",
       "      <td>0.45</td>\n",
       "      <td>0.2239</td>\n",
       "      <td>62</td>\n",
       "      <td>185</td>\n",
       "      <td>247</td>\n",
       "      <td>2</td>\n",
       "    </tr>\n",
       "    <tr>\n",
       "      <th>17378</th>\n",
       "      <td>17379</td>\n",
       "      <td>2012-12-31</td>\n",
       "      <td>1</td>\n",
       "      <td>1</td>\n",
       "      <td>12</td>\n",
       "      <td>23</td>\n",
       "      <td>0</td>\n",
       "      <td>1</td>\n",
       "      <td>1</td>\n",
       "      <td>1</td>\n",
       "      <td>0.26</td>\n",
       "      <td>0.2727</td>\n",
       "      <td>0.65</td>\n",
       "      <td>0.1343</td>\n",
       "      <td>12</td>\n",
       "      <td>37</td>\n",
       "      <td>49</td>\n",
       "      <td>3</td>\n",
       "    </tr>\n",
       "  </tbody>\n",
       "</table>\n",
       "<p>3476 rows × 18 columns</p>\n",
       "</div>"
      ],
      "text/plain": [
       "       instant      dteday  season  yr  mnth  hr  holiday  weekday  \\\n",
       "11          12  2011-01-01       1   0     1  11        0        6   \n",
       "15          16  2011-01-01       1   0     1  15        0        6   \n",
       "16          17  2011-01-01       1   0     1  16        0        6   \n",
       "19          20  2011-01-01       1   0     1  19        0        6   \n",
       "29          30  2011-01-02       1   0     1   6        0        0   \n",
       "...        ...         ...     ...  ..   ...  ..      ...      ...   \n",
       "17357    17358  2012-12-31       1   1    12   2        0        1   \n",
       "17361    17362  2012-12-31       1   1    12   6        0        1   \n",
       "17363    17364  2012-12-31       1   1    12   8        0        1   \n",
       "17369    17370  2012-12-31       1   1    12  14        0        1   \n",
       "17378    17379  2012-12-31       1   1    12  23        0        1   \n",
       "\n",
       "       workingday  weathersit  temp   atemp   hum  windspeed  casual  \\\n",
       "11              0           1  0.36  0.3333  0.81     0.2836      26   \n",
       "15              0           2  0.44  0.4394  0.77     0.2985      40   \n",
       "16              0           2  0.42  0.4242  0.82     0.2985      41   \n",
       "19              0           3  0.42  0.4242  0.88     0.2537       6   \n",
       "29              0           3  0.42  0.4242  0.77     0.2985       0   \n",
       "...           ...         ...   ...     ...   ...        ...     ...   \n",
       "17357           1           1  0.16  0.1667  0.59     0.1642       3   \n",
       "17361           1           1  0.16  0.1667  0.64     0.1642       0   \n",
       "17363           1           1  0.14  0.1515  0.69     0.1343       9   \n",
       "17369           1           2  0.28  0.2727  0.45     0.2239      62   \n",
       "17378           1           1  0.26  0.2727  0.65     0.1343      12   \n",
       "\n",
       "       registered  cnt  time_label  \n",
       "11             30   56           1  \n",
       "15             70  110           2  \n",
       "16             52   93           2  \n",
       "19             31   37           3  \n",
       "29              2    2           1  \n",
       "...           ...  ...         ...  \n",
       "17357           8   11           4  \n",
       "17361          40   40           1  \n",
       "17363         187  196           1  \n",
       "17369         185  247           2  \n",
       "17378          37   49           3  \n",
       "\n",
       "[3476 rows x 18 columns]"
      ]
     },
     "execution_count": 14,
     "metadata": {},
     "output_type": "execute_result"
    }
   ],
   "source": [
    "test"
   ]
  },
  {
   "cell_type": "markdown",
   "id": "f14a07b6",
   "metadata": {},
   "source": [
    "## Exclusion Columns"
   ]
  },
  {
   "cell_type": "markdown",
   "id": "85931501",
   "metadata": {},
   "source": [
    "In this part we will remove columns that dont bring any information to the dataset or also is the information that we want to predict:\n",
    "- cnt\n",
    "- casual\n",
    "- dteday\n",
    "- registered"
   ]
  },
  {
   "cell_type": "code",
   "execution_count": 19,
   "id": "d03edfdd",
   "metadata": {},
   "outputs": [],
   "source": [
    "predictors = train.columns.tolist()\n",
    "predictors.remove(\"cnt\")\n",
    "predictors.remove(\"casual\")\n",
    "predictors.remove(\"registered\")\n",
    "predictors.remove(\"dteday\")"
   ]
  },
  {
   "cell_type": "markdown",
   "id": "60d79d56",
   "metadata": {},
   "source": [
    "## Prediction"
   ]
  },
  {
   "cell_type": "markdown",
   "id": "9ce49661",
   "metadata": {},
   "source": [
    "### Linear Regression"
   ]
  },
  {
   "cell_type": "code",
   "execution_count": 45,
   "id": "06b5f54c",
   "metadata": {},
   "outputs": [
    {
     "name": "stdout",
     "output_type": "stream",
     "text": [
      "MSE: 17676.44152472376\n"
     ]
    }
   ],
   "source": [
    "mse = predict_analysis(train, test, predictors, \"cnt\", model=\"LR\")"
   ]
  },
  {
   "cell_type": "markdown",
   "id": "35e737c4",
   "metadata": {},
   "source": [
    "#### Error Overview"
   ]
  },
  {
   "cell_type": "markdown",
   "id": "e25fa128",
   "metadata": {},
   "source": [
    "The error is very high. This may be due to the fact that the data has a few extremely high rental counts but on the other hand mostly low counts. Larger errors are penalized more with MSE, which lead to a higher total error."
   ]
  },
  {
   "cell_type": "markdown",
   "id": "facb2f85",
   "metadata": {},
   "source": [
    "### Decision Tree Regressor"
   ]
  },
  {
   "cell_type": "code",
   "execution_count": 48,
   "id": "c6f60f03",
   "metadata": {},
   "outputs": [
    {
     "name": "stdout",
     "output_type": "stream",
     "text": [
      "DT WIHT  1 SAMPLE LEAF ERROR 2710.405926352129\n",
      "DT WIHT  2 SAMPLE LEAF ERROR 2528.693477496479\n",
      "DT WIHT  3 SAMPLE LEAF ERROR 2328.6897279759532\n",
      "DT WIHT  4 SAMPLE LEAF ERROR 2424.654438702116\n",
      "DT WIHT  5 SAMPLE LEAF ERROR 2396.017623475941\n",
      "DT WIHT  6 SAMPLE LEAF ERROR 2370.1688105795256\n",
      "DT WIHT  7 SAMPLE LEAF ERROR 2403.96756337371\n",
      "DT WIHT  8 SAMPLE LEAF ERROR 2330.126132745885\n",
      "DT WIHT  9 SAMPLE LEAF ERROR 2388.2585625353645\n"
     ]
    }
   ],
   "source": [
    "mse = predict_analysis(train, test, predictors, \"cnt\", model=\"DT\")"
   ]
  },
  {
   "cell_type": "markdown",
   "id": "5c3dcb1c",
   "metadata": {},
   "source": [
    "#### Error Overview"
   ]
  },
  {
   "cell_type": "markdown",
   "id": "12f6f48f",
   "metadata": {},
   "source": [
    "By taking the nonlinear predictors into account, the decision tree regressor appears to have much higher accuracy than linear regression."
   ]
  },
  {
   "cell_type": "markdown",
   "id": "fcca292c",
   "metadata": {},
   "source": [
    "### Random Forest Error"
   ]
  },
  {
   "cell_type": "code",
   "execution_count": 49,
   "id": "e8865a5b",
   "metadata": {},
   "outputs": [
    {
     "name": "stdout",
     "output_type": "stream",
     "text": [
      "DT WIHT  1 SAMPLE LEAF ERROR 1411.4362758055224\n",
      "DT WIHT  2 SAMPLE LEAF ERROR 1407.4685220941044\n",
      "DT WIHT  3 SAMPLE LEAF ERROR 1457.632732756504\n",
      "DT WIHT  4 SAMPLE LEAF ERROR 1505.5015841816592\n",
      "DT WIHT  5 SAMPLE LEAF ERROR 1548.0972675538542\n",
      "DT WIHT  6 SAMPLE LEAF ERROR 1627.2760631798903\n",
      "DT WIHT  7 SAMPLE LEAF ERROR 1638.6205313157795\n",
      "DT WIHT  8 SAMPLE LEAF ERROR 1723.859360564219\n",
      "DT WIHT  9 SAMPLE LEAF ERROR 1771.6572013833345\n"
     ]
    }
   ],
   "source": [
    "mse = predict_analysis(train, test, predictors, \"cnt\", model=\"RF\")"
   ]
  },
  {
   "cell_type": "markdown",
   "id": "192b5d39",
   "metadata": {},
   "source": [
    "#### Fit"
   ]
  },
  {
   "cell_type": "markdown",
   "id": "14ea5c7f",
   "metadata": {},
   "source": [
    "#### Error Overview"
   ]
  },
  {
   "cell_type": "markdown",
   "id": "9ac3ea3b",
   "metadata": {},
   "source": [
    "By removing some of the sources of overfitting, the random forest accuracy is improved over the decision tree accuracy."
   ]
  },
  {
   "cell_type": "markdown",
   "id": "23452a3f",
   "metadata": {},
   "source": [
    "### Predict Casual"
   ]
  },
  {
   "cell_type": "code",
   "execution_count": 50,
   "id": "212b6f95",
   "metadata": {},
   "outputs": [
    {
     "name": "stdout",
     "output_type": "stream",
     "text": [
      "MSE: 1313.447144812434\n"
     ]
    }
   ],
   "source": [
    "mse = predict_analysis(train, test, predictors, \"casual\", model=\"LR\")"
   ]
  },
  {
   "cell_type": "code",
   "execution_count": 51,
   "id": "099ec5f0",
   "metadata": {},
   "outputs": [
    {
     "name": "stdout",
     "output_type": "stream",
     "text": [
      "DT WIHT  1 SAMPLE LEAF ERROR 353.33342922899885\n",
      "DT WIHT  2 SAMPLE LEAF ERROR 319.1196298427312\n",
      "DT WIHT  3 SAMPLE LEAF ERROR 319.6714186165454\n",
      "DT WIHT  4 SAMPLE LEAF ERROR 315.01660486288887\n",
      "DT WIHT  5 SAMPLE LEAF ERROR 317.6709123432436\n",
      "DT WIHT  6 SAMPLE LEAF ERROR 299.33306774777196\n",
      "DT WIHT  7 SAMPLE LEAF ERROR 306.5741860897186\n",
      "DT WIHT  8 SAMPLE LEAF ERROR 312.5111857278546\n",
      "DT WIHT  9 SAMPLE LEAF ERROR 305.2321060975188\n"
     ]
    }
   ],
   "source": [
    "mse = predict_analysis(train, test, predictors, \"casual\", model=\"DT\")"
   ]
  },
  {
   "cell_type": "code",
   "execution_count": 52,
   "id": "b11d5671",
   "metadata": {},
   "outputs": [
    {
     "name": "stdout",
     "output_type": "stream",
     "text": [
      "DT WIHT  1 SAMPLE LEAF ERROR 177.66826294591482\n",
      "DT WIHT  2 SAMPLE LEAF ERROR 184.723704948244\n",
      "DT WIHT  3 SAMPLE LEAF ERROR 190.18398970044723\n",
      "DT WIHT  4 SAMPLE LEAF ERROR 195.95301555246135\n",
      "DT WIHT  5 SAMPLE LEAF ERROR 205.39172013199777\n",
      "DT WIHT  6 SAMPLE LEAF ERROR 216.02486703061987\n",
      "DT WIHT  7 SAMPLE LEAF ERROR 224.62948863057682\n",
      "DT WIHT  8 SAMPLE LEAF ERROR 232.2532279181972\n",
      "DT WIHT  9 SAMPLE LEAF ERROR 241.46347510419582\n"
     ]
    }
   ],
   "source": [
    "mse = predict_analysis(train, test, predictors, \"casual\", model=\"RF\")"
   ]
  },
  {
   "cell_type": "markdown",
   "id": "2806bbcf",
   "metadata": {},
   "source": [
    "For the **casual** feature the **mse** is to much lower."
   ]
  },
  {
   "cell_type": "markdown",
   "id": "be1f0b42",
   "metadata": {},
   "source": [
    "### Predict Registered"
   ]
  },
  {
   "cell_type": "code",
   "execution_count": 53,
   "id": "582c66d2",
   "metadata": {},
   "outputs": [
    {
     "name": "stdout",
     "output_type": "stream",
     "text": [
      "MSE: 13460.786852654752\n"
     ]
    }
   ],
   "source": [
    "mse = predict_analysis(train, test, predictors, \"registered\", model=\"LR\")"
   ]
  },
  {
   "cell_type": "code",
   "execution_count": 54,
   "id": "1e4d27e6",
   "metadata": {},
   "outputs": [
    {
     "name": "stdout",
     "output_type": "stream",
     "text": [
      "DT WIHT  1 SAMPLE LEAF ERROR 1847.042002301496\n",
      "DT WIHT  2 SAMPLE LEAF ERROR 1646.3432265694898\n",
      "DT WIHT  3 SAMPLE LEAF ERROR 1583.1550155830419\n",
      "DT WIHT  4 SAMPLE LEAF ERROR 1614.5306388689908\n",
      "DT WIHT  5 SAMPLE LEAF ERROR 1623.476992286001\n",
      "DT WIHT  6 SAMPLE LEAF ERROR 1565.8343197537438\n",
      "DT WIHT  7 SAMPLE LEAF ERROR 1543.165305194087\n",
      "DT WIHT  8 SAMPLE LEAF ERROR 1593.820604474061\n",
      "DT WIHT  9 SAMPLE LEAF ERROR 1635.8999053608359\n"
     ]
    }
   ],
   "source": [
    "mse = predict_analysis(train, test, predictors, \"registered\", model=\"DT\")"
   ]
  },
  {
   "cell_type": "code",
   "execution_count": 55,
   "id": "f7c1b7f9",
   "metadata": {},
   "outputs": [
    {
     "name": "stdout",
     "output_type": "stream",
     "text": [
      "DT WIHT  1 SAMPLE LEAF ERROR 939.1191000287681\n",
      "DT WIHT  2 SAMPLE LEAF ERROR 988.2777945063793\n",
      "DT WIHT  3 SAMPLE LEAF ERROR 1039.2035913387376\n",
      "DT WIHT  4 SAMPLE LEAF ERROR 1098.0289656499226\n",
      "DT WIHT  5 SAMPLE LEAF ERROR 1139.1757211953252\n",
      "DT WIHT  6 SAMPLE LEAF ERROR 1177.1357365019326\n",
      "DT WIHT  7 SAMPLE LEAF ERROR 1236.7128126845141\n",
      "DT WIHT  8 SAMPLE LEAF ERROR 1272.4686435832798\n",
      "DT WIHT  9 SAMPLE LEAF ERROR 1306.9088099101336\n"
     ]
    }
   ],
   "source": [
    "mse = predict_analysis(train, test, predictors, \"registered\", model=\"RF\")"
   ]
  },
  {
   "cell_type": "markdown",
   "id": "3b655d44",
   "metadata": {},
   "source": [
    "For the **registered** column the mean squared error is lower than for **cnt** but is much higher than for casual."
   ]
  },
  {
   "cell_type": "markdown",
   "id": "a944e5ac",
   "metadata": {},
   "source": [
    "https://nbviewer.org/urls/community.dataquest.io/uploads/short-url/9bucZmmgOGJMecx1SpoRM2wBMu.ipynb"
   ]
  }
 ],
 "metadata": {
  "kernelspec": {
   "display_name": "Python 3 (ipykernel)",
   "language": "python",
   "name": "python3"
  },
  "language_info": {
   "codemirror_mode": {
    "name": "ipython",
    "version": 3
   },
   "file_extension": ".py",
   "mimetype": "text/x-python",
   "name": "python",
   "nbconvert_exporter": "python",
   "pygments_lexer": "ipython3",
   "version": "3.9.13"
  }
 },
 "nbformat": 4,
 "nbformat_minor": 5
}
